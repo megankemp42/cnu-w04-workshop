{
 "cells": [
  {
   "cell_type": "markdown",
   "metadata": {},
   "source": [
    "# Week 4 workshop task: Recursive functions and matrix determinants\n",
    "\n",
    "### Recursive functions in Python\n",
    "\n",
    "This task explores a principle known as **recursion**, where a function uses *itself*. For example, the factorial function can be written without recursion as a loop\n",
    "\n",
    "```python\n",
    "def loop_factorial(i):\n",
    "    f = 1\n",
    "    for j in range(2, i + 1):\n",
    "        f = f * j\n",
    "    return f\n",
    "```\n",
    "\n",
    "or through recursion in the following form\n",
    "\n",
    "```python\n",
    "def recursive_factorial(i):\n",
    "    if i == 1:\n",
    "        return 1\n",
    "    else:\n",
    "        return i * recursive_factorial(i - 1)\n",
    "```\n",
    "\n",
    "Recursive functions typically test for a **simple case** where the answer can be computed easily (the terminating case\"), and otherwise fall back to a **recursive formula** for more complicated cases (the \"recursing case\").\n",
    "\n",
    "### Computing determinants recursively\n",
    "\n",
    "Cofactor expansion is a recursive algorithm for computing a matrix determinant:\n",
    "\n",
    "\\begin{equation}\n",
    "  \\det A = \\sum_{j = 1}^N \\left( - 1\n",
    "\\right)^{j + 1} A_{1,j} \\det C_{1,j},\n",
    "\\end{equation}\n",
    "\n",
    "where $A_{i,j}$ is the\n",
    "element in the $i$th row and $j$th column of the\n",
    "$N \\times N$ matrix $A$, and\n",
    "$C_{i,j}$ is the\n",
    "$\\left( N - 1 \\right) \\times \\left( N - 1 \\right)$ matrix\n",
    "obtained by removing\n",
    "the $i$th row and $j$th column from $A$.\n",
    "\n",
    "---\n",
    "🚩 ***Exercise 1:***\n",
    "Write a function `det_2()` which computes the determinant of an input matrix `A`, where `A` is assumed to be a $2\\times 2$ matrix, using\n",
    "$$\\det A = A_{1,1}A_{2,2} - A_{1,2}A_{2,1}.$$\n",
    "\n",
    "Check that your function `det_2()` returns the same result as the NumPy function `np.linalg.det()`."
   ]
  },
  {
   "cell_type": "code",
   "execution_count": 7,
   "metadata": {},
   "outputs": [
    {
     "name": "stdout",
     "output_type": "stream",
     "text": [
      "-0.12397003513166635\n",
      "-0.12397003513166636\n"
     ]
    }
   ],
   "source": [
    "import numpy as np\n",
    "\n",
    "\n",
    "def det_2(A):\n",
    "    '''\n",
    "    Computes the determinant of a 2x2 matrix.\n",
    "    '''\n",
    "    d = A[0, 0]*A[1, 1] - A[0, 1]*A[1, 0]\n",
    "    \n",
    "    return d\n",
    "\n",
    "\n",
    "# Testing: comparing to the output of NumPy's function\n",
    "A = np.random.random([2, 2])\n",
    "print(det_2(A))\n",
    "print(np.linalg.det(A))"
   ]
  },
  {
   "cell_type": "markdown",
   "metadata": {},
   "source": [
    "---\n",
    "🚩 ***Exercise 2:***\n",
    "Write a function `det_ce()`, which uses `det_2()` and *itself* to compute the determinant of an arbitrary input square matrix `A`, where `A` is assumed to be $2 \\times 2$ or larger. *Don't forget to write a docstring!*\n",
    "\n",
    "*Hint:* Use the `.shape` attribute to first find the size of the input matrix. If it is $2 \\times 2$ then use `det_2()` to find the determinant. Otherwise use the recursive equation above to find the determinant.\n",
    "\n",
    "The function `minor()` is provided to you below, to help with constructing the matrices $C_{i,j}$.\n",
    "\n",
    "Check that the output of your `det_ce()` function is the same as the output of the `np.linalg.det()` function."
   ]
  },
  {
   "cell_type": "code",
   "execution_count": 57,
   "metadata": {},
   "outputs": [
    {
     "name": "stdout",
     "output_type": "stream",
     "text": [
      "-0.06414416109541368\n",
      "-0.06414416109541367\n"
     ]
    }
   ],
   "source": [
    "def minor(A, i, j):\n",
    "    '''\n",
    "    Return a copy of the matrix A with row i and column j removed.\n",
    "    '''\n",
    "    # Extract slices of A before and after row i, concatenate them\n",
    "    A = np.concatenate((A[:i, :], A[i + 1:, :]), axis=0)\n",
    "    \n",
    "    # Extract slices of A before and after column j, concatenate them\n",
    "    A = np.concatenate((A[:, :j], A[:, j + 1:]), axis=1)\n",
    "    \n",
    "    return A\n",
    "\n",
    "\n",
    "def det_ce(A):\n",
    "    '''\n",
    "    Finds the determinant of the matrix A\n",
    "    '''\n",
    "    d = 0\n",
    "    indices = list(range(len(A)))\n",
    "    if len(A) == 2:\n",
    "        return det_2(A)\n",
    "    else:\n",
    "        for j in range(len(A)):\n",
    "            C = minor(A, 1, j)\n",
    "            sign = (-1)**(j%2)\n",
    "            subd = det_ce(C)\n",
    "            d += sign * A[1, j] * subd\n",
    "    return d\n",
    "\n",
    "\n",
    "# Testing: comparing to the output of NumPy's function\n",
    "A = np.random.random([4, 4])\n",
    "print(det_ce(A))\n",
    "print(np.linalg.det(A))"
   ]
  },
  {
   "cell_type": "markdown",
   "metadata": {},
   "source": [
    "---\n",
    "As seen in the Week 4 tutorial sheet, the `time()` function in Python's `time` module allows Python to read the current time from your computer's clock. We can therefore use it to time how long it takes a section of code to run, as follows:\n",
    "\n",
    "```python\n",
    "import time\n",
    "\n",
    "t0 = time.time()\n",
    "# Code to time\n",
    "t = time.time() - t0\n",
    "print(f\"Elapsed time: {t:.6f} seconds\")\n",
    "```\n",
    "\n",
    "and the resulting time is stored in the variable `t`, as the time elapsed between the first and the second measurement.\n",
    "\n",
    "---\n",
    "🚩 ***Exercise 3:***\n",
    "Time how long `det_ce()` takes for different sized matrices using `time.time()`, for different values of `N`. Compare this against the speed of the NumPy\n",
    "determinant function `np.linalg.det()`.\n",
    "\n",
    "What happens as `N` increases? Why? What additional computations are performed when going from a matrix of size `N` to a matrix of size `N+1`?\n",
    "\n",
    "*Hint:* You should limit consideration to $N \\leq 10$. Press the 'Stop' button above (the square next to Run) to interrupt the calculation if it takes a very long time."
   ]
  },
  {
   "cell_type": "code",
   "execution_count": 61,
   "metadata": {},
   "outputs": [
    {
     "name": "stdout",
     "output_type": "stream",
     "text": [
      "n = 2\n",
      "0.0 seconds to calculate using det_ce\n",
      "0.0 seconds to calculate using np.linalg.det\n",
      "n = 3\n",
      "0.0 seconds to calculate using det_ce\n",
      "0.0 seconds to calculate using np.linalg.det\n",
      "n = 4\n",
      "0.0011644363403320312 seconds to calculate using det_ce\n",
      "0.0 seconds to calculate using np.linalg.det\n",
      "n = 5\n",
      "0.0035033226013183594 seconds to calculate using det_ce\n",
      "0.0 seconds to calculate using np.linalg.det\n",
      "n = 6\n",
      "0.022614240646362305 seconds to calculate using det_ce\n",
      "0.0009975433349609375 seconds to calculate using np.linalg.det\n",
      "n = 7\n",
      "0.04747891426086426 seconds to calculate using det_ce\n",
      "0.0 seconds to calculate using np.linalg.det\n",
      "n = 8\n",
      "0.5926167964935303 seconds to calculate using det_ce\n",
      "0.0 seconds to calculate using np.linalg.det\n",
      "n = 9\n",
      "3.1291186809539795 seconds to calculate using det_ce\n",
      "0.0 seconds to calculate using np.linalg.det\n",
      "n = 10\n",
      "33.39323687553406 seconds to calculate using det_ce\n",
      "0.0 seconds to calculate using np.linalg.det\n"
     ]
    }
   ],
   "source": [
    "import time\n",
    "\n",
    "for n in range(2, 11):\n",
    "    print(f'n = {n}')\n",
    "    t0 = time.time()\n",
    "    A = np.random.random([n, n])\n",
    "    det_ce(A)\n",
    "    print(time.time()-t0, 'seconds to calculate using det_ce')\n",
    "    t1 = time.time()\n",
    "    np.linalg.det(A)\n",
    "    print(time.time()-t1, 'seconds to calculate using np.linalg.det')\n",
    "    "
   ]
  },
  {
   "cell_type": "markdown",
   "metadata": {},
   "source": [
    "Your notes..."
   ]
  }
 ],
 "metadata": {
  "kernelspec": {
   "display_name": "Python 3",
   "language": "python",
   "name": "python3"
  },
  "language_info": {
   "codemirror_mode": {
    "name": "ipython",
    "version": 3
   },
   "file_extension": ".py",
   "mimetype": "text/x-python",
   "name": "python",
   "nbconvert_exporter": "python",
   "pygments_lexer": "ipython3",
   "version": "3.8.5"
  }
 },
 "nbformat": 4,
 "nbformat_minor": 4
}
